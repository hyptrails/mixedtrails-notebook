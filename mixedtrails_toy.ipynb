{
 "cells": [
  {
   "cell_type": "code",
   "execution_count": 1,
   "metadata": {
    "collapsed": false
   },
   "outputs": [],
   "source": [
    "## preparation\n",
    "\n",
    "# some common imports\n",
    "import importlib\n",
    "\n",
    "# import hyptrails\n",
    "import trails.hyptrails\n",
    "importlib.reload(trails.hyptrails)\n",
    "from trails.hyptrails import *\n",
    "\n",
    "# numpy \n",
    "import numpy as np\n",
    "\n",
    "# prepare plotting\n",
    "%matplotlib inline\n",
    "\n",
    "# set figure size; src: http://txt.arboreus.com/2012/12/13/change-figure-size-in-ipython-notebook-sessions.html\n",
    "import matplotlib.pylab as pylab\n",
    "pylab.rcParams['figure.figsize'] = 15, 8\n",
    "\n",
    "# import matplotlib\n",
    "import matplotlib.pyplot as plt\n",
    "\n",
    "# prepare illustration\n",
    "%load_ext tikzmagic"
   ]
  },
  {
   "cell_type": "code",
   "execution_count": 2,
   "metadata": {
    "collapsed": false
   },
   "outputs": [
    {
     "data": {
      "text/plain": [
       "array([[  0.,  10.,   0.,  20.],\n",
       "       [ 20.,   0.,  10.,   0.],\n",
       "       [  0.,  20.,   0.,  10.],\n",
       "       [ 10.,   0.,  20.,   0.]])"
      ]
     },
     "execution_count": 2,
     "metadata": {},
     "output_type": "execute_result"
    }
   ],
   "source": [
    "data = np.array([[0.0,10,0,20],[20,0,10,0],[0,20,0,10],[10,0,20,0]])\n",
    "data"
   ]
  },
  {
   "cell_type": "code",
   "execution_count": 3,
   "metadata": {
    "collapsed": false
   },
   "outputs": [
    {
     "data": {
      "text/plain": [
       "array([[  0.,  10.,   0.,   0.],\n",
       "       [  0.,   0.,  10.,   0.],\n",
       "       [  0.,   0.,   0.,  10.],\n",
       "       [ 10.,   0.,   0.,   0.]])"
      ]
     },
     "execution_count": 3,
     "metadata": {},
     "output_type": "execute_result"
    }
   ],
   "source": [
    "data_red = np.array([[0.0,10,0,0],[0,0,10,0],[0,0,0,10],[10,0,0,0]])\n",
    "data_red"
   ]
  },
  {
   "cell_type": "code",
   "execution_count": 4,
   "metadata": {
    "collapsed": false
   },
   "outputs": [
    {
     "data": {
      "text/plain": [
       "array([[  0.,   0.,   0.,  20.],\n",
       "       [ 20.,   0.,   0.,   0.],\n",
       "       [  0.,  20.,   0.,   0.],\n",
       "       [  0.,   0.,  20.,   0.]])"
      ]
     },
     "execution_count": 4,
     "metadata": {},
     "output_type": "execute_result"
    }
   ],
   "source": [
    "data_blue = np.array([[0.0,0,0,20],[20,0,0,0],[0,20,0,0],[0,0,20,0]])\n",
    "data_blue"
   ]
  },
  {
   "cell_type": "code",
   "execution_count": 5,
   "metadata": {
    "collapsed": false
   },
   "outputs": [],
   "source": [
    "data_male = data / 2\n",
    "data_female = data / 2"
   ]
  },
  {
   "cell_type": "code",
   "execution_count": 6,
   "metadata": {
    "collapsed": false
   },
   "outputs": [],
   "source": [
    "data_red_male = data_red / 2\n",
    "data_red_female = data_red / 2\n",
    "data_blue_male = data_blue / 2\n",
    "data_blue_female = data_blue / 2"
   ]
  },
  {
   "cell_type": "code",
   "execution_count": 7,
   "metadata": {
    "collapsed": false
   },
   "outputs": [
    {
     "data": {
      "text/plain": [
       "array([[ 0.        ,  0.33333333,  0.        ,  0.66666667],\n",
       "       [ 0.66666667,  0.        ,  0.33333333,  0.        ],\n",
       "       [ 0.        ,  0.66666667,  0.        ,  0.33333333],\n",
       "       [ 0.33333333,  0.        ,  0.66666667,  0.        ]])"
      ]
     },
     "execution_count": 7,
     "metadata": {},
     "output_type": "execute_result"
    }
   ],
   "source": [
    "import trails.utils as utils \n",
    "tp_data = utils.norm1_2d(data)\n",
    "tp_data"
   ]
  },
  {
   "cell_type": "code",
   "execution_count": 8,
   "metadata": {
    "collapsed": false
   },
   "outputs": [
    {
     "data": {
      "text/plain": [
       "array([[ 0.25,  0.25,  0.25,  0.25],\n",
       "       [ 0.25,  0.25,  0.25,  0.25],\n",
       "       [ 0.25,  0.25,  0.25,  0.25],\n",
       "       [ 0.25,  0.25,  0.25,  0.25]])"
      ]
     },
     "execution_count": 8,
     "metadata": {},
     "output_type": "execute_result"
    }
   ],
   "source": [
    "tp_uniform = utils.norm1_2d(np.ones((4,4)))\n",
    "tp_uniform"
   ]
  },
  {
   "cell_type": "code",
   "execution_count": 9,
   "metadata": {
    "collapsed": false
   },
   "outputs": [
    {
     "data": {
      "text/plain": [
       "array([[ 0.,  1.,  0.,  1.],\n",
       "       [ 1.,  0.,  1.,  0.],\n",
       "       [ 0.,  1.,  0.,  1.],\n",
       "       [ 1.,  0.,  1.,  0.]])"
      ]
     },
     "execution_count": 9,
     "metadata": {},
     "output_type": "execute_result"
    }
   ],
   "source": [
    "tp_equal = np.array([[0.0,1,0,1],[1,0,1,0],[0,1,0,1],[1,0,1,0]])\n",
    "tp_equal"
   ]
  },
  {
   "cell_type": "code",
   "execution_count": 10,
   "metadata": {
    "collapsed": false
   },
   "outputs": [
    {
     "data": {
      "text/plain": [
       "array([[ 0.,  0.,  0.,  1.],\n",
       "       [ 1.,  0.,  0.,  0.],\n",
       "       [ 0.,  1.,  0.,  0.],\n",
       "       [ 0.,  0.,  1.,  0.]])"
      ]
     },
     "execution_count": 10,
     "metadata": {},
     "output_type": "execute_result"
    }
   ],
   "source": [
    "tp_clock = utils.norm1_2d(np.array([[0,0,0,1],[1,0,0,0],[0,1,0,0],[0,0,1,0]]))\n",
    "tp_clock"
   ]
  },
  {
   "cell_type": "code",
   "execution_count": 11,
   "metadata": {
    "collapsed": false
   },
   "outputs": [
    {
     "data": {
      "text/plain": [
       "array([[ 0.,  1.,  0.,  0.],\n",
       "       [ 0.,  0.,  1.,  0.],\n",
       "       [ 0.,  0.,  0.,  1.],\n",
       "       [ 1.,  0.,  0.,  0.]])"
      ]
     },
     "execution_count": 11,
     "metadata": {},
     "output_type": "execute_result"
    }
   ],
   "source": [
    "tp_counter = utils.norm1_2d(np.array([[0,1,0,0],[0,0,1,0],[0,0,0,1],[1,0,0,0]]))\n",
    "tp_counter"
   ]
  },
  {
   "cell_type": "code",
   "execution_count": 12,
   "metadata": {
    "collapsed": false
   },
   "outputs": [
    {
     "name": "stdout",
     "output_type": "stream",
     "text": [
      "[-22.59869534 -29.8900933 ]\n",
      "[-22.54840645 -29.83614059]\n",
      "[-22.375012   -29.64995269]\n",
      "[-21.90064911 -29.13929161]\n",
      "[-20.44339252 -27.55788599]\n",
      "[-17.3928082  -24.17561802]\n",
      "[-11.86697895 -17.70280679]\n",
      "[ -8.34795499 -13.21910189]\n",
      "[ -6.48146793 -10.66463704]\n",
      "[-5.3092525  -8.97616655]\n",
      "[-4.50068625 -7.76553077]\n",
      "[-3.90790273 -6.85056904]\n",
      "[-3.454131   -6.13275408]\n",
      "[-3.09534437 -5.55357199]\n",
      "[-2.80441277 -5.07586402]\n",
      "[-2.56367786 -4.6748047 ]\n",
      "[-0.94540971 -1.82174253]\n",
      "[-0.29485632 -0.582641  ]\n",
      "[-0.09942066 -0.19802439]\n",
      "[-0.02994761 -0.05982066]\n",
      "[-0.00999417 -0.01998002]\n",
      "[-0.00299947 -0.0059982 ]\n",
      "[-22.63379657 -29.9332184 ]\n",
      "[-22.65343357 -29.96523096]\n",
      "[-22.72193681 -30.07699115]\n",
      "[-22.91574524 -30.39390029]\n",
      "[-23.57263447 -31.47600901]\n",
      "[-25.28586934 -34.35807684]\n",
      "[-29.91041697 -42.60895347]\n",
      "[-34.33505495 -51.24752614]\n",
      "[-37.37571782 -57.68795249]\n",
      "[-39.61594971 -62.74080202]\n",
      "[-41.34404724 -66.84116987]\n",
      "[-42.72185973 -70.25093385]\n",
      "[-43.84830456 -73.13996706]\n",
      "[-44.78766292 -75.62451844]\n",
      "[-45.58370791 -77.78742845]\n",
      "[-46.26737125 -79.68964443]\n",
      "[-51.57754569 -96.17524478]\n",
      "[ -54.16508386 -105.67277151]\n",
      "[ -55.00907194 -109.05930619]\n",
      "[ -55.31743998 -110.33869363]\n",
      "[ -55.40684868 -110.7141247 ]\n",
      "[ -55.43828113 -110.84660084]\n",
      "[-22.62989368 -29.90925295]\n",
      "[-22.64173933 -29.89345097]\n",
      "[-22.68312281 -29.83906447]\n",
      "[-22.80069894 -29.69117451]\n",
      "[-23.2042347  -29.24829373]\n",
      "[-24.28631094 -28.41249846]\n",
      "[-27.33236863 -27.46010158]\n",
      "[-30.31399605 -27.48254121]\n",
      "[-32.36466595 -27.80705594]\n",
      "[-33.86691716 -28.16342013]\n",
      "[-35.01770128 -28.49456713]\n",
      "[-35.92892609 -28.7893983 ]\n",
      "[-36.66913718 -29.04886051]\n",
      "[-37.28279584 -29.27696261]\n",
      "[-37.80006732 -29.4781074 ]\n",
      "[-38.24217222 -29.6563032 ]\n",
      "[-41.59865021 -31.18836211]\n",
      "[-43.17628453 -32.01262004]\n",
      "[-43.6814636  -32.29013625]\n",
      "[-43.86482252 -32.39247558]\n",
      "[-43.91786177 -32.42223842]\n",
      "[-43.93649487 -32.43271133]\n",
      "[-58.85286356 -58.85286356]\n",
      "[-58.86433133 -58.86433133]\n",
      "[-58.90438508 -58.90438508]\n",
      "[-59.01811099 -59.01811099]\n",
      "[-59.40791756 -59.40791756]\n",
      "[-60.45399025 -60.45399025]\n",
      "[-63.45784373 -63.45784373]\n",
      "[-66.53324968 -66.53324968]\n",
      "[-68.74286859 -68.74286859]\n",
      "[-70.41600941 -70.41600941]\n",
      "[-71.7312903 -71.7312903]\n",
      "[-72.79470898 -72.79470898]\n",
      "[-73.67354503 -73.67354503]\n",
      "[-74.41275237 -74.41275237]\n",
      "[-75.04360637 -75.04360637]\n",
      "[-75.58858881 -75.58858881]\n",
      "[-79.91780497 -79.91780497]\n",
      "[-82.08597923 -82.08597923]\n",
      "[-82.8010614 -82.8010614]\n",
      "[-83.06327609 -83.06327609]\n",
      "[-83.13939688 -83.13939688]\n",
      "[-83.16616784 -83.16616784]\n",
      "[-16.10642342 -16.10642342 -22.63379657 -22.63379657]\n",
      "[-16.11644239 -16.11644239 -22.65343357 -22.65343357]\n",
      "[-16.15135901 -16.15135901 -22.72193681 -22.72193681]\n",
      "[-16.24985601 -16.24985601 -22.91574524 -22.91574524]\n",
      "[-16.58054417 -16.58054417 -23.57263447 -23.57263447]\n",
      "[-17.42043553 -17.42043553 -25.28586934 -25.28586934]\n",
      "[-19.53120769 -19.53120769 -29.91041697 -29.91041697]\n",
      "[-21.35015232 -21.35015232 -34.33505495 -34.33505495]\n",
      "[-22.49400657 -22.49400657 -37.37571782 -37.37571782]\n",
      "[-23.28428624 -23.28428624 -39.61594971 -39.61594971]\n",
      "[-23.86458696 -23.86458696 -41.34404724 -41.34404724]\n",
      "[-24.30945678 -24.30945678 -42.72185973 -42.72185973]\n",
      "[-24.66167142 -24.66167142 -43.84830456 -43.84830456]\n",
      "[-24.94761264 -24.94761264 -44.78766292 -44.78766292]\n",
      "[-25.18446874 -25.18446874 -45.58370791 -45.58370791]\n",
      "[-25.38393329 -25.38393329 -46.26737125 -46.26737125]\n",
      "[-26.81262122 -26.81262122 -51.57754569 -51.57754569]\n",
      "[-27.43424759 -27.43424759 -54.16508386 -54.16508386]\n",
      "[-27.62683553 -27.62683553 -55.00907194 -55.00907194]\n",
      "[-27.6959732  -27.6959732  -55.31743998 -55.31743998]\n",
      "[-27.7158968  -27.7158968  -55.40684868 -55.40684868]\n",
      "[-27.72288808 -27.72288808 -55.43828113 -55.43828113]\n",
      "[-16.10338125 -16.10338125 -22.61428902 -22.61428902]\n",
      "[-16.10732949 -16.10732949 -22.5950239  -22.5950239 ]\n",
      "[-16.12114009 -16.12114009 -22.52853826 -22.52853826]\n",
      "[-16.16051507 -16.16051507 -22.34626554 -22.34626554]\n",
      "[-16.29691016 -16.29691016 -21.78517492 -21.78517492]\n",
      "[-16.66762673 -16.66762673 -20.62886102 -20.62886102]\n",
      "[-17.69856911 -17.69856911 -18.72232019 -18.72232019]\n",
      "[-18.64488507 -18.64488507 -17.70962225 -17.70962225]\n",
      "[-19.25028571 -19.25028571 -17.25396614 -17.25396614]\n",
      "[-19.66943073 -19.66943073 -17.00038282 -17.00038282]\n",
      "[-19.97663386 -19.97663386 -16.84115121 -16.84115121]\n",
      "[-20.21143951 -20.21143951 -16.73292869 -16.73292869]\n",
      "[-20.39674888 -20.39674888 -16.65511752 -16.65511752]\n",
      "[-20.54672812 -20.54672812 -16.59676328 -16.59676328]\n",
      "[-20.67060774 -20.67060774 -16.55154217 -16.55154217]\n",
      "[-20.77465945 -20.77465945 -16.515567   -16.515567  ]\n",
      "[-21.51120254 -21.51120254 -16.30909782 -16.30909782]\n",
      "[-21.82596064 -21.82596064 -16.2443305  -16.2443305 ]\n",
      "[-21.9226657  -21.9226657  -16.22702123 -16.22702123]\n",
      "[-21.9572838  -21.9572838  -16.22111194 -16.22111194]\n",
      "[-21.96725001 -21.96725001 -16.21943851 -16.21943851]\n",
      "[-21.97074615 -21.97074615 -16.2188544  -16.2188544 ]\n",
      "[-16.10642342 -16.10642342 -22.63379657 -22.63379657]\n",
      "[-16.11644239 -16.11644239 -22.65343357 -22.65343357]\n",
      "[-16.15135901 -16.15135901 -22.72193681 -22.72193681]\n",
      "[-16.24985601 -16.24985601 -22.91574524 -22.91574524]\n",
      "[-16.58054417 -16.58054417 -23.57263447 -23.57263447]\n",
      "[-17.42043553 -17.42043553 -25.28586934 -25.28586934]\n",
      "[-19.53120769 -19.53120769 -29.91041697 -29.91041697]\n",
      "[-21.35015232 -21.35015232 -34.33505495 -34.33505495]\n",
      "[-22.49400657 -22.49400657 -37.37571782 -37.37571782]\n",
      "[-23.28428624 -23.28428624 -39.61594971 -39.61594971]\n",
      "[-23.86458696 -23.86458696 -41.34404724 -41.34404724]\n",
      "[-24.30945678 -24.30945678 -42.72185973 -42.72185973]\n",
      "[-24.66167142 -24.66167142 -43.84830456 -43.84830456]\n",
      "[-24.94761264 -24.94761264 -44.78766292 -44.78766292]\n",
      "[-25.18446874 -25.18446874 -45.58370791 -45.58370791]\n",
      "[-25.38393329 -25.38393329 -46.26737125 -46.26737125]\n",
      "[-26.81262122 -26.81262122 -51.57754569 -51.57754569]\n",
      "[-27.43424759 -27.43424759 -54.16508386 -54.16508386]\n",
      "[-27.62683553 -27.62683553 -55.00907194 -55.00907194]\n",
      "[-27.6959732  -27.6959732  -55.31743998 -55.31743998]\n",
      "[-27.7158968  -27.7158968  -55.40684868 -55.40684868]\n",
      "[-27.72288808 -27.72288808 -55.43828113 -55.43828113]\n",
      "[-16.07906723 -16.07906723 -22.59869534 -22.59869534]\n",
      "[-16.03463489 -16.03463489 -22.54840645 -22.54840645]\n",
      "[-15.88165292 -15.88165292 -22.375012   -22.375012  ]\n",
      "[-15.4648888  -15.4648888  -21.90064911 -21.90064911]\n",
      "[-14.20117316 -14.20117316 -20.44339252 -20.44339252]\n",
      "[-11.64290388 -11.64290388 -17.3928082  -17.3928082 ]\n",
      "[ -7.35311794  -7.35311794 -11.86697895 -11.86697895]\n",
      "[-4.88796524 -4.88796524 -8.34795499 -8.34795499]\n",
      "[-3.67394449 -3.67394449 -6.48146793 -6.48146793]\n",
      "[-2.94626567 -2.94626567 -5.3092525  -5.3092525 ]\n",
      "[-2.46031523 -2.46031523 -4.50068625 -4.50068625]\n",
      "[-2.11244504 -2.11244504 -3.90790273 -3.90790273]\n",
      "[-1.85098843 -1.85098843 -3.454131   -3.454131  ]\n",
      "[-1.64724445 -1.64724445 -3.09534437 -3.09534437]\n",
      "[-1.4839746  -1.4839746  -2.80441277 -2.80441277]\n",
      "[-1.35019283 -1.35019283 -2.56367786 -2.56367786]\n",
      "[-0.48201325 -0.48201325 -0.94540971 -0.94540971]\n",
      "[-0.14833377 -0.14833377 -0.29485632 -0.29485632]\n",
      "[-0.04981329 -0.04981329 -0.09942066 -0.09942066]\n",
      "[-0.01498315 -0.01498315 -0.02994761 -0.02994761]\n",
      "[-0.00499813 -0.00499813 -0.00999417 -0.00999417]\n",
      "[-0.00149983 -0.00149983 -0.00299947 -0.00299947]\n",
      "[-16.10642342 -16.10642342 -22.63379657 -22.63379657]\n",
      "[-16.11644239 -16.11644239 -22.65343357 -22.65343357]\n",
      "[-16.15135901 -16.15135901 -22.72193681 -22.72193681]\n",
      "[-16.24985601 -16.24985601 -22.91574524 -22.91574524]\n",
      "[-16.58054417 -16.58054417 -23.57263447 -23.57263447]\n",
      "[-17.42043553 -17.42043553 -25.28586934 -25.28586934]\n",
      "[-19.53120769 -19.53120769 -29.91041697 -29.91041697]\n",
      "[-21.35015232 -21.35015232 -34.33505495 -34.33505495]\n",
      "[-22.49400657 -22.49400657 -37.37571782 -37.37571782]\n",
      "[-23.28428624 -23.28428624 -39.61594971 -39.61594971]\n",
      "[-23.86458696 -23.86458696 -41.34404724 -41.34404724]\n",
      "[-24.30945678 -24.30945678 -42.72185973 -42.72185973]\n",
      "[-24.66167142 -24.66167142 -43.84830456 -43.84830456]\n",
      "[-24.94761264 -24.94761264 -44.78766292 -44.78766292]\n",
      "[-25.18446874 -25.18446874 -45.58370791 -45.58370791]\n",
      "[-25.38393329 -25.38393329 -46.26737125 -46.26737125]\n",
      "[-26.81262122 -26.81262122 -51.57754569 -51.57754569]\n",
      "[-27.43424759 -27.43424759 -54.16508386 -54.16508386]\n",
      "[-27.62683553 -27.62683553 -55.00907194 -55.00907194]\n",
      "[-27.6959732  -27.6959732  -55.31743998 -55.31743998]\n",
      "[-27.7158968  -27.7158968  -55.40684868 -55.40684868]\n",
      "[-27.72288808 -27.72288808 -55.43828113 -55.43828113]\n",
      "[-16.10338125 -16.10338125 -22.61428902 -22.61428902]\n",
      "[-16.10732949 -16.10732949 -22.5950239  -22.5950239 ]\n",
      "[-16.12114009 -16.12114009 -22.52853826 -22.52853826]\n",
      "[-16.16051507 -16.16051507 -22.34626554 -22.34626554]\n",
      "[-16.29691016 -16.29691016 -21.78517492 -21.78517492]\n",
      "[-16.66762673 -16.66762673 -20.62886102 -20.62886102]\n",
      "[-17.69856911 -17.69856911 -18.72232019 -18.72232019]\n",
      "[-18.64488507 -18.64488507 -17.70962225 -17.70962225]\n",
      "[-19.25028571 -19.25028571 -17.25396614 -17.25396614]\n",
      "[-19.66943073 -19.66943073 -17.00038282 -17.00038282]\n",
      "[-19.97663386 -19.97663386 -16.84115121 -16.84115121]\n",
      "[-20.21143951 -20.21143951 -16.73292869 -16.73292869]\n",
      "[-20.39674888 -20.39674888 -16.65511752 -16.65511752]\n",
      "[-20.54672812 -20.54672812 -16.59676328 -16.59676328]\n",
      "[-20.67060774 -20.67060774 -16.55154217 -16.55154217]\n",
      "[-20.77465945 -20.77465945 -16.515567   -16.515567  ]\n",
      "[-21.51120254 -21.51120254 -16.30909782 -16.30909782]\n",
      "[-21.82596064 -21.82596064 -16.2443305  -16.2443305 ]\n",
      "[-21.9226657  -21.9226657  -16.22702123 -16.22702123]\n",
      "[-21.9572838  -21.9572838  -16.22111194 -16.22111194]\n",
      "[-21.96725001 -21.96725001 -16.21943851 -16.21943851]\n",
      "[-21.97074615 -21.97074615 -16.2188544  -16.2188544 ]\n"
     ]
    }
   ],
   "source": [
    "from collections import OrderedDict\n",
    "\n",
    "kappas = [0.001,0.003, 0.01, 0.03, 0.1, 0.3,1,2,3,4,5,6,7,8,9,10,30,100,300,1000,3000,10000]\n",
    "exp = OrderedDict()\n",
    "\n",
    "\n",
    "exp[\"data\"] = evidence_markov_kappas(data, tp_data, [k * data.shape[0] for k in kappas])\n",
    "exp[\"uniform\"] = evidence_markov_kappas(data, tp_uniform, [k * data.shape[0] for k in kappas])\n",
    "\n",
    "#exp[\"equal\"] = evidence_markov_kappas(data, tp_equal, [k * data.shape[0] for k in kappas])\n",
    "\n",
    "\n",
    "exp[\"red-counter_blue-clock\"] = evidence_groups_kappas(np.array([data_red, data_blue]), np.array([tp_counter, tp_clock]), [k * data.shape[0] for k in kappas])\n",
    "exp[\"red-uniform_blue-uniform\"] = evidence_groups_kappas(np.array([data_red, data_blue]), np.array([tp_uniform, tp_uniform]), [k * data.shape[0] for k in kappas])\n",
    "exp[\"red-data_blue-data\"] = evidence_groups_kappas(np.array([data_red, data_blue]), np.array([tp_data, tp_data]), [k * data.shape[0] for k in kappas])\n",
    "\n",
    "#exp[\"red-clock_blue-counter\"] = evidence_groups_kappas(np.array([data_red, data_blue]), np.array([tp_clock, tp_counter]), [k * data.shape[0] for k in kappas])\n",
    "\n",
    "#exp[\"female-clock_male-counter\"] = evidence_groups_kappas(np.array([data_male, data_female]), np.array([tp_clock, tp_counter]), [k * data.shape[0] for k in kappas])\n",
    "#exp[\"female-data_male-data\"] = evidence_groups_kappas(np.array([data_male, data_female]), np.array([tp_data, tp_data]), [k * data.shape[0] for k in kappas])\n",
    "exp[\"female-uniform_male-uniform\"] = evidence_groups_kappas(np.array([data_male, data_female]), np.array([tp_uniform, tp_uniform]), [k * data.shape[0] for k in kappas])\n",
    "\n",
    "cart_data = np.array([data_red_female, data_red_male, data_blue_female, data_blue_male])\n",
    "\n",
    "exp[\"cart_uniform\"] = evidence_groups_kappas(cart_data, np.array([tp_uniform, tp_uniform, tp_uniform, tp_uniform]), [k * data.shape[0] for k in kappas])\n",
    "exp[\"cart_data\"] = evidence_groups_kappas(cart_data, np.array([tp_data, tp_data, tp_data, tp_data]), [k * data.shape[0] for k in kappas])\n",
    "\n",
    "exp[\"cart_female-uniform_male-uniform\"] = evidence_groups_kappas(cart_data, np.array([tp_uniform, tp_uniform, tp_uniform, tp_uniform]), [k * data.shape[0] for k in kappas])\n",
    "#exp[\"cart_female-data_male-data\"] = evidence_groups_kappas(cart_data, np.array([tp_data, tp_data, tp_data, tp_data]), [k * data.shape[0] for k in kappas])\n",
    "#exp[\"cart_female-clock_male-counter\"] = evidence_groups_kappas(cart_data, np.array([tp_clock, tp_counter, tp_clock, tp_counter]), [k * data.shape[0] for k in kappas])\n",
    "\n",
    "#exp[\"cart_red-data_blue-data\"] = evidence_groups_kappas(cart_data, np.array([tp_data, tp_data, tp_data, tp_data]), [k * data.shape[0] for k in kappas])\n",
    "#exp[\"cart_red-clock_blue-counter\"] = evidence_groups_kappas(cart_data, np.array([tp_clock, tp_clock, tp_counter, tp_counter]), [k * data.shape[0] for k in kappas])\n",
    "exp[\"cart_red-counter_blue-clock\"] = evidence_groups_kappas(cart_data, np.array([tp_counter, tp_counter, tp_clock, tp_clock]), [k * data.shape[0] for k in kappas])\n",
    "exp[\"cart_red-uniform_blue-uniform\"] = evidence_groups_kappas(cart_data, np.array([tp_uniform, tp_uniform, tp_uniform, tp_uniform]), [k * data.shape[0] for k in kappas])\n",
    "exp[\"cart_red-data_blue-data\"] = evidence_groups_kappas(cart_data, np.array([tp_data, tp_data, tp_data, tp_data]), [k * data.shape[0] for k in kappas])\n",
    "\n"
   ]
  },
  {
   "cell_type": "code",
   "execution_count": 13,
   "metadata": {
    "collapsed": false
   },
   "outputs": [
    {
     "data": {
      "text/plain": [
       "<matplotlib.legend.Legend at 0x7f10959e2710>"
      ]
     },
     "execution_count": 13,
     "metadata": {},
     "output_type": "execute_result"
    },
    {
     "data": {
      "image/png": "[encoded data removed]",
      "text/plain": [
       "<matplotlib.figure.Figure at 0x7f1097a98eb8>"
      ]
     },
     "metadata": {},
     "output_type": "display_data"
    }
   ],
   "source": [
    "import itertools\n",
    "marker = itertools.cycle((',','+','.','o','*'))\n",
    "\n",
    "fig, ax = plt.subplots(1,1)\n",
    "for key, values in exp.items():\n",
    "    ax.plot(kappas, values,  marker = next(marker), label= key)\n",
    "    \n",
    "ax.set_ylim([-200,0])\n",
    "ax.set_xlim([0.01,100])\n",
    "\n",
    "plt.xscale('log')\n",
    "plt.legend(loc = \"lower right\")"
   ]
  },
  {
   "cell_type": "code",
   "execution_count": 15,
   "metadata": {
    "collapsed": false
   },
   "outputs": [
    {
     "ename": "OperationalError",
     "evalue": "(2003, \"Can't connect to MySQL server on 'localhost' ([Errno 111] Connection refused)\")",
     "output_type": "error",
     "traceback": [
      "\u001b[1;31m---------------------------------------------------------------------------\u001b[0m",
      "\u001b[1;31mConnectionRefusedError\u001b[0m                    Traceback (most recent call last)",
      "\u001b[1;32m/media/data/content/systems/linux/home/.virtualenvs/analysis/lib/python3.5/site-packages/pymysql/connections.py\u001b[0m in \u001b[0;36mconnect\u001b[1;34m(self, sock)\u001b[0m\n\u001b[0;32m    889\u001b[0m                             sock = socket.create_connection(\n\u001b[1;32m--> 890\u001b[1;33m                                 (self.host, self.port), self.connect_timeout)\n\u001b[0m\u001b[0;32m    891\u001b[0m                             \u001b[1;32mbreak\u001b[0m\u001b[1;33m\u001b[0m\u001b[0m\n",
      "\u001b[1;32m/usr/lib/python3.5/socket.py\u001b[0m in \u001b[0;36mcreate_connection\u001b[1;34m(address, timeout, source_address)\u001b[0m\n\u001b[0;32m    710\u001b[0m     \u001b[1;32mif\u001b[0m \u001b[0merr\u001b[0m \u001b[1;32mis\u001b[0m \u001b[1;32mnot\u001b[0m \u001b[1;32mNone\u001b[0m\u001b[1;33m:\u001b[0m\u001b[1;33m\u001b[0m\u001b[0m\n\u001b[1;32m--> 711\u001b[1;33m         \u001b[1;32mraise\u001b[0m \u001b[0merr\u001b[0m\u001b[1;33m\u001b[0m\u001b[0m\n\u001b[0m\u001b[0;32m    712\u001b[0m     \u001b[1;32melse\u001b[0m\u001b[1;33m:\u001b[0m\u001b[1;33m\u001b[0m\u001b[0m\n",
      "\u001b[1;32m/usr/lib/python3.5/socket.py\u001b[0m in \u001b[0;36mcreate_connection\u001b[1;34m(address, timeout, source_address)\u001b[0m\n\u001b[0;32m    701\u001b[0m                 \u001b[0msock\u001b[0m\u001b[1;33m.\u001b[0m\u001b[0mbind\u001b[0m\u001b[1;33m(\u001b[0m\u001b[0msource_address\u001b[0m\u001b[1;33m)\u001b[0m\u001b[1;33m\u001b[0m\u001b[0m\n\u001b[1;32m--> 702\u001b[1;33m             \u001b[0msock\u001b[0m\u001b[1;33m.\u001b[0m\u001b[0mconnect\u001b[0m\u001b[1;33m(\u001b[0m\u001b[0msa\u001b[0m\u001b[1;33m)\u001b[0m\u001b[1;33m\u001b[0m\u001b[0m\n\u001b[0m\u001b[0;32m    703\u001b[0m             \u001b[1;32mreturn\u001b[0m \u001b[0msock\u001b[0m\u001b[1;33m\u001b[0m\u001b[0m\n",
      "\u001b[1;31mConnectionRefusedError\u001b[0m: [Errno 111] Connection refused",
      "\nDuring handling of the above exception, another exception occurred:\n",
      "\u001b[1;31mOperationalError\u001b[0m                          Traceback (most recent call last)",
      "\u001b[1;32m<ipython-input-15-538515388b2f>\u001b[0m in \u001b[0;36m<module>\u001b[1;34m()\u001b[0m\n\u001b[0;32m      8\u001b[0m     \u001b[0muser\u001b[0m\u001b[1;33m=\u001b[0m\u001b[1;34m'user'\u001b[0m\u001b[1;33m,\u001b[0m\u001b[1;33m\u001b[0m\u001b[0m\n\u001b[0;32m      9\u001b[0m     \u001b[0mpassword\u001b[0m\u001b[1;33m=\u001b[0m\u001b[1;34m'password'\u001b[0m\u001b[1;33m,\u001b[0m\u001b[1;33m\u001b[0m\u001b[0m\n\u001b[1;32m---> 10\u001b[1;33m     db='db')\n\u001b[0m\u001b[0;32m     11\u001b[0m \u001b[1;33m\u001b[0m\u001b[0m\n\u001b[0;32m     12\u001b[0m \u001b[0mname\u001b[0m \u001b[1;33m=\u001b[0m \u001b[1;34m\"mixedtrails-toy\"\u001b[0m\u001b[1;33m\u001b[0m\u001b[0m\n",
      "\u001b[1;32m/media/data/content/systems/linux/home/.virtualenvs/analysis/lib/python3.5/site-packages/pymysql/__init__.py\u001b[0m in \u001b[0;36mConnect\u001b[1;34m(*args, **kwargs)\u001b[0m\n\u001b[0;32m     86\u001b[0m     \"\"\"\n\u001b[0;32m     87\u001b[0m     \u001b[1;32mfrom\u001b[0m \u001b[1;33m.\u001b[0m\u001b[0mconnections\u001b[0m \u001b[1;32mimport\u001b[0m \u001b[0mConnection\u001b[0m\u001b[1;33m\u001b[0m\u001b[0m\n\u001b[1;32m---> 88\u001b[1;33m     \u001b[1;32mreturn\u001b[0m \u001b[0mConnection\u001b[0m\u001b[1;33m(\u001b[0m\u001b[1;33m*\u001b[0m\u001b[0margs\u001b[0m\u001b[1;33m,\u001b[0m \u001b[1;33m**\u001b[0m\u001b[0mkwargs\u001b[0m\u001b[1;33m)\u001b[0m\u001b[1;33m\u001b[0m\u001b[0m\n\u001b[0m\u001b[0;32m     89\u001b[0m \u001b[1;33m\u001b[0m\u001b[0m\n\u001b[0;32m     90\u001b[0m \u001b[1;32mfrom\u001b[0m \u001b[0mpymysql\u001b[0m \u001b[1;32mimport\u001b[0m \u001b[0mconnections\u001b[0m \u001b[1;32mas\u001b[0m \u001b[0m_orig_conn\u001b[0m\u001b[1;33m\u001b[0m\u001b[0m\n",
      "\u001b[1;32m/media/data/content/systems/linux/home/.virtualenvs/analysis/lib/python3.5/site-packages/pymysql/connections.py\u001b[0m in \u001b[0;36m__init__\u001b[1;34m(self, host, user, password, database, port, unix_socket, charset, sql_mode, read_default_file, conv, use_unicode, client_flag, cursorclass, init_command, connect_timeout, ssl, read_default_group, compress, named_pipe, no_delay, autocommit, db, passwd, local_infile, max_allowed_packet, defer_connect, auth_plugin_map, read_timeout, write_timeout)\u001b[0m\n\u001b[0;32m    686\u001b[0m             \u001b[0mself\u001b[0m\u001b[1;33m.\u001b[0m\u001b[0m_sock\u001b[0m \u001b[1;33m=\u001b[0m \u001b[1;32mNone\u001b[0m\u001b[1;33m\u001b[0m\u001b[0m\n\u001b[0;32m    687\u001b[0m         \u001b[1;32melse\u001b[0m\u001b[1;33m:\u001b[0m\u001b[1;33m\u001b[0m\u001b[0m\n\u001b[1;32m--> 688\u001b[1;33m             \u001b[0mself\u001b[0m\u001b[1;33m.\u001b[0m\u001b[0mconnect\u001b[0m\u001b[1;33m(\u001b[0m\u001b[1;33m)\u001b[0m\u001b[1;33m\u001b[0m\u001b[0m\n\u001b[0m\u001b[0;32m    689\u001b[0m \u001b[1;33m\u001b[0m\u001b[0m\n\u001b[0;32m    690\u001b[0m     \u001b[1;32mdef\u001b[0m \u001b[0m_create_ssl_ctx\u001b[0m\u001b[1;33m(\u001b[0m\u001b[0mself\u001b[0m\u001b[1;33m,\u001b[0m \u001b[0msslp\u001b[0m\u001b[1;33m)\u001b[0m\u001b[1;33m:\u001b[0m\u001b[1;33m\u001b[0m\u001b[0m\n",
      "\u001b[1;32m/media/data/content/systems/linux/home/.virtualenvs/analysis/lib/python3.5/site-packages/pymysql/connections.py\u001b[0m in \u001b[0;36mconnect\u001b[1;34m(self, sock)\u001b[0m\n\u001b[0;32m    935\u001b[0m                 \u001b[0mexc\u001b[0m\u001b[1;33m.\u001b[0m\u001b[0mtraceback\u001b[0m \u001b[1;33m=\u001b[0m \u001b[0mtraceback\u001b[0m\u001b[1;33m.\u001b[0m\u001b[0mformat_exc\u001b[0m\u001b[1;33m(\u001b[0m\u001b[1;33m)\u001b[0m\u001b[1;33m\u001b[0m\u001b[0m\n\u001b[0;32m    936\u001b[0m                 \u001b[1;32mif\u001b[0m \u001b[0mDEBUG\u001b[0m\u001b[1;33m:\u001b[0m \u001b[0mprint\u001b[0m\u001b[1;33m(\u001b[0m\u001b[0mexc\u001b[0m\u001b[1;33m.\u001b[0m\u001b[0mtraceback\u001b[0m\u001b[1;33m)\u001b[0m\u001b[1;33m\u001b[0m\u001b[0m\n\u001b[1;32m--> 937\u001b[1;33m                 \u001b[1;32mraise\u001b[0m \u001b[0mexc\u001b[0m\u001b[1;33m\u001b[0m\u001b[0m\n\u001b[0m\u001b[0;32m    938\u001b[0m \u001b[1;33m\u001b[0m\u001b[0m\n\u001b[0;32m    939\u001b[0m             \u001b[1;31m# If e is neither DatabaseError or IOError, It's a bug.\u001b[0m\u001b[1;33m\u001b[0m\u001b[1;33m\u001b[0m\u001b[0m\n",
      "\u001b[1;31mOperationalError\u001b[0m: (2003, \"Can't connect to MySQL server on 'localhost' ([Errno 111] Connection refused)\")"
     ]
    }
   ],
   "source": [
    "import trails.db as db\n",
    "importlib.reload(db)\n",
    "import pymysql\n",
    "pymysql.install_as_MySQLdb()\n",
    "con = pymysql.connect(\n",
    "    host='localhost',\n",
    "    port=3306,\n",
    "    user='user',\n",
    "    password='password',\n",
    "    db='db')\n",
    "\n",
    "name = \"mixedtrails-toy\"\n",
    "#name = \"mixedtrails-synth-homo\"\n",
    "#name = \"mixedtrails-synth-mem\"\n",
    "#name = \"mixedtrails-synth-exp\"\n",
    "for k, v in exp.items():\n",
    "    print(k)\n",
    "    db.write(name, k, kappas, v, con, table=\"results_mixed_trails\", replace=True)\n",
    "\n",
    "con.close()"
   ]
  },
  {
   "cell_type": "code",
   "execution_count": null,
   "metadata": {
    "collapsed": true
   },
   "outputs": [],
   "source": []
  },
  {
   "cell_type": "code",
   "execution_count": null,
   "metadata": {
    "collapsed": true
   },
   "outputs": [],
   "source": []
  }
 ],
 "metadata": {
  "kernelspec": {
   "display_name": "Python 3",
   "language": "python",
   "name": "python3"
  },
  "language_info": {
   "codemirror_mode": {
    "name": "ipython",
    "version": 3
   },
   "file_extension": ".py",
   "mimetype": "text/x-python",
   "name": "python",
   "nbconvert_exporter": "python",
   "pygments_lexer": "ipython3",
   "version": "3.5.1+"
  },
  "toc": {
   "toc_cell": false,
   "toc_number_sections": true,
   "toc_threshold": 6,
   "toc_window_display": false
  }
 },
 "nbformat": 4,
 "nbformat_minor": 0
}
